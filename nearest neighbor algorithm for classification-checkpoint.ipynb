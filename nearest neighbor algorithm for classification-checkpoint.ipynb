{
 "cells": [
  {
   "cell_type": "code",
   "execution_count": null,
   "metadata": {},
   "outputs": [],
   "source": [
    "import numpy as np\n",
    "import pandas as pd\n",
    "from scipy.spatial import distance"
   ]
  },
  {
   "cell_type": "code",
   "execution_count": null,
   "metadata": {},
   "outputs": [],
   "source": [
    "columns = ['bedrooms', 'total area', 'kitchen', 'living area', 'floor', 'total floors', 'air conditioner']\n",
    "\n",
    "df_train = pd.DataFrame([\n",
    "    [1, 38.5, 6.9, 18.9, 3, 5, 1],\n",
    "    [1, 38.0, 8.5, 19.2, 9, 17, 0],\n",
    "    [1, 34.7, 10.3, 19.8, 1, 9, 0],\n",
    "    [1, 45.9, 11.1, 17.5, 11, 23, 1],\n",
    "    [1, 42.4, 10.0, 19.9, 6, 14, 0],\n",
    "    [1, 46.0, 10.2, 20.5, 3, 12, 1],\n",
    "    [2, 77.7, 13.2, 39.3, 3, 17, 1],\n",
    "    [2, 69.8, 11.1, 31.4, 12, 23, 0],\n",
    "    [2, 78.2, 19.4, 33.2, 4, 9, 0],\n",
    "    [2, 55.5, 7.8, 29.6, 1, 25, 1],\n",
    "    [2, 74.3, 16.0, 34.2, 14, 17, 1],\n",
    "    [2, 78.3, 12.3, 42.6, 23, 23, 0],\n",
    "    [2, 74.0, 18.1, 49.0, 8, 9, 0],\n",
    "    [2, 91.4, 20.1, 60.4, 2, 10, 0],\n",
    "    [3, 85.0, 17.8, 56.1, 14, 14, 1],\n",
    "    [3, 79.8, 9.8, 44.8, 9, 10, 0],\n",
    "    [3, 72.0, 10.2, 37.3, 7, 9, 1],\n",
    "    [3, 95.3, 11.0, 51.5, 15, 23, 1],\n",
    "    [3, 69.3, 8.5, 39.3, 4, 9, 0],\n",
    "    [3, 89.8, 11.2, 58.2, 24, 25, 0],\n",
    "], columns=columns)"
   ]
  },
  {
   "cell_type": "code",
   "execution_count": null,
   "metadata": {},
   "outputs": [],
   "source": [
    "train_features = df_train.drop('air conditioner', axis=1)\n",
    "train_target = df_train['air conditioner']"
   ]
  },
  {
   "cell_type": "code",
   "execution_count": null,
   "metadata": {},
   "outputs": [],
   "source": [
    "df_test = pd.DataFrame([\n",
    "    [1, 36.5, 5.9, 17.9, 2, 7, 0],\n",
    "    [2, 71.7, 12.2, 34.3, 5, 21, 1],\n",
    "    [3, 88.0, 18.1, 58.2, 17, 17, 1],\n",
    "], columns=columns)\n",
    "\n",
    "test_features = df_test.drop('air conditioner', axis=1)"
   ]
  },
  {
   "cell_type": "code",
   "execution_count": null,
   "metadata": {},
   "outputs": [],
   "source": [
    "def nearest_neighbor_predict(train_features, train_target, new_features):\n",
    "    distances = []\n",
    "    for i in range(train_features.shape[0]):\n",
    "        vector = train_features.loc[i].values\n",
    "        distances.append(distance.euclidean(new_features, vector))\n",
    "    best_index = np.array(distances).argmin()\n",
    "    return train_target.loc[best_index]"
   ]
  },
  {
   "cell_type": "code",
   "execution_count": null,
   "metadata": {},
   "outputs": [],
   "source": [
    "class NearestNeighborClassificator:\n",
    "    def fit(self, features_train, target_train):\n",
    "        self.features_train = features_train\n",
    "        self.target_train = target_train\n",
    "        \n",
    "    def predict(self,new_features):\n",
    "        predicted=[]\n",
    "        for vector in new_features.values:\n",
    "            predicted.append(nearest_neighbor_predict(self.features_train,self.target_train,vector))\n",
    "        return predicted\n"
   ]
  },
  {
   "cell_type": "code",
   "execution_count": null,
   "metadata": {},
   "outputs": [],
   "source": [
    "model = NearestNeighborClassificator()\n",
    "model.fit(train_features, train_target)\n",
    "new_predictions = model.predict(test_features)\n",
    "print(new_predictions)"
   ]
  }
 ],
 "metadata": {
  "kernelspec": {
   "display_name": "Python 3",
   "language": "python",
   "name": "python3"
  },
  "language_info": {
   "codemirror_mode": {
    "name": "ipython",
    "version": 3
   },
   "file_extension": ".py",
   "mimetype": "text/x-python",
   "name": "python",
   "nbconvert_exporter": "python",
   "pygments_lexer": "ipython3",
   "version": "3.7.0"
  }
 },
 "nbformat": 4,
 "nbformat_minor": 2
}
